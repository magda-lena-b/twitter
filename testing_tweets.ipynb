{
 "cells": [
  {
   "cell_type": "code",
   "execution_count": 1,
   "metadata": {
    "collapsed": true
   },
   "outputs": [],
   "source": [
    "\n",
    "\n",
    "import tweepy\n",
    "import pandas as pd\n",
    "import re\n",
    "import pickle\n",
    "import matplotlib.pyplot as plt\n",
    "from tweepy import OAuthHandler\n",
    "\n",
    "\n",
    "# dane do autoryzacji\n",
    "consumer_key, consumer_secret ,access_token, access_secret = list(pd.read_csv('tw_auth.csv', header=None)[0])\n",
    "\n",
    "auth = tweepy.OAuthHandler(consumer_key, consumer_secret)\n",
    "auth.set_access_token(access_token, access_secret)\n",
    "\n",
    "\n",
    "api = tweepy.API(auth, wait_on_rate_limit=True)"
   ]
  },
  {
   "cell_type": "code",
   "execution_count": null,
   "metadata": {},
   "outputs": [
    {
     "name": "stdout",
     "output_type": "stream",
     "text": [
      "100\n",
      "200\n",
      "300\n",
      "400\n",
      "500\n",
      "600\n",
      "700\n",
      "800\n",
      "900\n",
      "1000\n",
      "1100\n",
      "1200\n",
      "1300\n",
      "1400\n",
      "1500\n",
      "1600\n",
      "1700\n",
      "1800\n",
      "1900\n",
      "2000\n",
      "2100\n",
      "2200\n",
      "2300\n",
      "2400\n",
      "2500\n",
      "2600\n"
     ]
    }
   ],
   "source": [
    "   \n",
    "t = tweepy.Cursor(api.search,q='knf -filter:retweets',lang='pl', tweet_mode='extended').items(10000)\n",
    "tw_df=pd.DataFrame(columns=['tw_text', 'tw_loc'])\n",
    "\n",
    "i=0\n",
    "\n",
    "for tw in t:\n",
    "    tw_df=tw_df.append(pd.DataFrame([[tw.full_text , tw.user.location]], columns=['tw_text', 'tw_loc']))\n",
    "    i+=1\n",
    "    if i % 100 ==0:\n",
    "        print(i, \" at \", datetime.datetime.now())"
   ]
  },
  {
   "cell_type": "code",
   "execution_count": 4,
   "metadata": {},
   "outputs": [
    {
     "name": "stdout",
     "output_type": "stream",
     "text": [
      "Trwa I etap (online) hackathonu \"Switch to Smart\". Wciąż możliwe zgłoszenia: https://t.co/HnWVyvhk1c . Koniec I eta… https://t.co/NoEqiL7ARA\n",
      "Leszcze z Kalifornii... Takie pm2,5 jakie teraz mają u siebie (ze względu na pożary) to jest na co dzień w Krakowie… https://t.co/8dKxSZY3Fd\n",
      "RT @kawecki_maciej: WAŻNE! Od wczoraj otrzymujemy na różne kanały wiadomości z poniższym załącznikiem. Udostępniam ją, gdyż nie ma w dokume…\n",
      "Of course, @MichelleObama’s my wife, so I’m a little biased here. But she also happens to be brilliant, funny, wise… https://t.co/bhzH5QSA0x\n",
      "US dominates Top500 at @Supercomputing - Summit and Sierra capture #1 and #2 on the list! Check out our new intervi… https://t.co/68Okr3adkV\n",
      "Michelle and I are heartbroken for everybody who’s lost so much in California, and grateful for the heroism of the… https://t.co/4sNwd1l283\n",
      "To all our veterans and your families: thank you. There's no tribute that can truly match the magnitude of your ser… https://t.co/ypSU5ocwN2\n",
      "Nieźle odlecieli... \n",
      "\n",
      "/Fot. Ukradziona od Michała Jaskólskiego https://t.co/rPKyEJfQYj\n",
      "Przypominamy, że już jutro rusza rejestracja a zarazem I etap hackathonu Switch to Smart! Najlepsze zespoły przejdą… https://t.co/uecjLyTp32\n",
      "Polskie #cyber.wojsko ma być nowym rodzajem sił zbrojnych - zapowiada @MON_GOV_PL. Dyskutowano o tym wczoraj na kom… https://t.co/6tJZB7f7YL\n",
      "Tak było! https://t.co/OCjoxX14Lr\n",
      "Naciąganie na #PremiumSMS z użyciem reklam Google może być opłacalne. Proponujemy krótką analizę tych kampanii.… https://t.co/A4iL58ENhi\n",
      "Ile zarabia cyberpolicjant w Polsce? Czy ściganie cyberprzestępców jest stresujące? Skąd policja pozyskuje wartości… https://t.co/c3fpTJRsDl\n",
      "Congratulations to everybody who showed up and participated in our democracy in record numbers yesterday. The chang… https://t.co/KtOmsuUdHh\n",
      "Today is the day. Today, it’s your turn to raise your voice to change the course of this country for the better. So… https://t.co/PHQApoHdgr\n",
      "RT @konieczny: Poważny problem niektórych dysków SSD i Bitlockera, który używa szyfrowania sprzętowego, jesli dysk je wspiera (a wiele wspi…\n",
      "Gratulacje dla małopolskich policjantów! Kolejna świetna cyber-realizacja 😎 https://t.co/ZtqVwpxo4Z\n",
      "RT @erjotin: Uważajcie❗️\n",
      "\n",
      "👾Tak wygląda przemyślany #btc #scam\n",
      "\n",
      "1. Wykorzystanie znanego nazwiska @elonmusk \n",
      "2. Dowód społeczny w komentarza…\n",
      "If you take that power and vote, something powerful happens. Change happens. Hope happens. And with each new step w… https://t.co/QwBCsv2WKS\n",
      "When you vote, you have the power to make it easier for a student to afford college, and harder for a disturbed per… https://t.co/IqykmSWOMo\n"
     ]
    }
   ],
   "source": [
    "\n",
    "public_tweets = api.home_timeline()\n",
    "for tweet in public_tweets:\n",
    "    print(tweet.text)"
   ]
  },
  {
   "cell_type": "code",
   "execution_count": 7,
   "metadata": {},
   "outputs": [
    {
     "data": {
      "text/plain": [
       "'Warszawa'"
      ]
     },
     "execution_count": 7,
     "metadata": {},
     "output_type": "execute_result"
    }
   ],
   "source": [
    "a = public_tweets[0]\n",
    "\n",
    "dir(a)\n",
    "a.author.location\n"
   ]
  },
  {
   "cell_type": "code",
   "execution_count": 8,
   "metadata": {
    "collapsed": true
   },
   "outputs": [],
   "source": [
    "for status in tweepy.Cursor(api.user_timeline).items():\n",
    "    # process status here\n",
    "    process_status(status)"
   ]
  },
  {
   "cell_type": "code",
   "execution_count": null,
   "metadata": {
    "collapsed": true
   },
   "outputs": [],
   "source": [
    "\n",
    "public_tweets = api.stauses_lookup()\n",
    "for tweet in public_tweets:\n",
    "    print(tweet.text)"
   ]
  }
 ],
 "metadata": {
  "kernelspec": {
   "display_name": "Python 3",
   "language": "python",
   "name": "python3"
  },
  "language_info": {
   "codemirror_mode": {
    "name": "ipython",
    "version": 3
   },
   "file_extension": ".py",
   "mimetype": "text/x-python",
   "name": "python",
   "nbconvert_exporter": "python",
   "pygments_lexer": "ipython3",
   "version": "3.6.3"
  }
 },
 "nbformat": 4,
 "nbformat_minor": 2
}
