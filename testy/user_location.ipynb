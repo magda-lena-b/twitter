{
 "cells": [
  {
   "cell_type": "code",
   "execution_count": 1,
   "metadata": {
    "collapsed": true
   },
   "outputs": [],
   "source": [
    "import tweepy\n",
    "import datetime\n",
    "import pandas as pd\n",
    "import re\n",
    "import pickle\n",
    "import matplotlib.pyplot as plt\n",
    "from tweepy import OAuthHandler"
   ]
  },
  {
   "cell_type": "code",
   "execution_count": 2,
   "metadata": {
    "collapsed": true
   },
   "outputs": [],
   "source": [
    "consumer_key, consumer_secret ,access_token, access_secret = list(pd.read_csv('tw_auth.csv', header=None)[0])\n",
    "auth = tweepy.OAuthHandler(consumer_key, consumer_secret)\n",
    "auth.set_access_token(access_token, access_secret)\n",
    "api = tweepy.API(auth, wait_on_rate_limit_notify = True, wait_on_rate_limit=True)\n"
   ]
  },
  {
   "cell_type": "code",
   "execution_count": 9,
   "metadata": {
    "collapsed": true
   },
   "outputs": [],
   "source": [
    "t = tweepy.Cursor(api.search,q='knf -filter:retweets',lang='pl', tweet_mode='extended').items(10)\n",
    "\n",
    "tw_df = pd.DataFrame(index=range(10), columns=['tw_text', 'tw_location', 'tw_user_id', 'tw_user_name', 'tw_fav_cnt'])\n"
   ]
  },
  {
   "cell_type": "code",
   "execution_count": 10,
   "metadata": {
    "collapsed": true
   },
   "outputs": [],
   "source": [
    "i=0\n",
    "for tw in t:\n",
    "    tw_df.iloc[i]=[tw.full_text, tw.user.location, tw.user.id, tw.user.name, tw.user.favourites_count]\n",
    "    i+=1"
   ]
  },
  {
   "cell_type": "code",
   "execution_count": 11,
   "metadata": {},
   "outputs": [
    {
     "data": {
      "text/html": [
       "<div>\n",
       "<style>\n",
       "    .dataframe thead tr:only-child th {\n",
       "        text-align: right;\n",
       "    }\n",
       "\n",
       "    .dataframe thead th {\n",
       "        text-align: left;\n",
       "    }\n",
       "\n",
       "    .dataframe tbody tr th {\n",
       "        vertical-align: top;\n",
       "    }\n",
       "</style>\n",
       "<table border=\"1\" class=\"dataframe\">\n",
       "  <thead>\n",
       "    <tr style=\"text-align: right;\">\n",
       "      <th></th>\n",
       "      <th>tw_text</th>\n",
       "      <th>tw_location</th>\n",
       "      <th>tw_user_id</th>\n",
       "      <th>tw_user_name</th>\n",
       "      <th>tw_fav_cnt</th>\n",
       "    </tr>\n",
       "  </thead>\n",
       "  <tbody>\n",
       "    <tr>\n",
       "      <th>0</th>\n",
       "      <td>Staną na głowie aby aferę zatuszować!    -NBP ...</td>\n",
       "      <td></td>\n",
       "      <td>745685279785238528</td>\n",
       "      <td>JoteReM</td>\n",
       "      <td>16016</td>\n",
       "    </tr>\n",
       "    <tr>\n",
       "      <th>1</th>\n",
       "      <td>Afera KNF. Filip Czuchwicki od dawna związany ...</td>\n",
       "      <td></td>\n",
       "      <td>1020754566562893824</td>\n",
       "      <td>Tygrys Bengalski</td>\n",
       "      <td>4065</td>\n",
       "    </tr>\n",
       "    <tr>\n",
       "      <th>2</th>\n",
       "      <td>NBP chce usunięcia tekstów o aferze KNF. Sześć...</td>\n",
       "      <td></td>\n",
       "      <td>1575865076</td>\n",
       "      <td>Katarzyna Kaczorowska</td>\n",
       "      <td>53230</td>\n",
       "    </tr>\n",
       "    <tr>\n",
       "      <th>3</th>\n",
       "      <td>\"Kamiński: Afera KNF to bomba, którą PiS sam s...</td>\n",
       "      <td>Śląskie, Polska</td>\n",
       "      <td>477118221</td>\n",
       "      <td>nieznajomy</td>\n",
       "      <td>78</td>\n",
       "    </tr>\n",
       "    <tr>\n",
       "      <th>4</th>\n",
       "      <td>@PAPBiznes @StZerko i słusznie KNF to nie NBP...</td>\n",
       "      <td>Toruń</td>\n",
       "      <td>74706282</td>\n",
       "      <td>zbych</td>\n",
       "      <td>14698</td>\n",
       "    </tr>\n",
       "    <tr>\n",
       "      <th>5</th>\n",
       "      <td>@olejnik_lukasz1 @wolne_media_pl @S_Potapowicz...</td>\n",
       "      <td>Warszawa, Polska</td>\n",
       "      <td>877494219585331200</td>\n",
       "      <td>Patryk Dejneka</td>\n",
       "      <td>6201</td>\n",
       "    </tr>\n",
       "    <tr>\n",
       "      <th>6</th>\n",
       "      <td>NBP chce usunięcia tekstów o aferze KNF. Wpłyn...</td>\n",
       "      <td></td>\n",
       "      <td>888044608504168452</td>\n",
       "      <td>Fajny Chłopak z Dużym Bicepsem</td>\n",
       "      <td>25287</td>\n",
       "    </tr>\n",
       "    <tr>\n",
       "      <th>7</th>\n",
       "      <td>NBP chce usunięcia tekstów o aferze KNF. Wpłyn...</td>\n",
       "      <td>Polska</td>\n",
       "      <td>970324946013564929</td>\n",
       "      <td>WatahaNDN</td>\n",
       "      <td>68</td>\n",
       "    </tr>\n",
       "    <tr>\n",
       "      <th>8</th>\n",
       "      <td>@StKarczewski Ciąg dalszy zasłona dymna nad na...</td>\n",
       "      <td>Olsztyn</td>\n",
       "      <td>111116776</td>\n",
       "      <td>Paweł Kołakowski</td>\n",
       "      <td>408</td>\n",
       "    </tr>\n",
       "    <tr>\n",
       "      <th>9</th>\n",
       "      <td>@rzeczpospolita @MorawieckiM @michal_kolanko o...</td>\n",
       "      <td></td>\n",
       "      <td>323177351</td>\n",
       "      <td>Janusz Piechociński</td>\n",
       "      <td>2144</td>\n",
       "    </tr>\n",
       "  </tbody>\n",
       "</table>\n",
       "</div>"
      ],
      "text/plain": [
       "                                             tw_text       tw_location  \\\n",
       "0  Staną na głowie aby aferę zatuszować!    -NBP ...                     \n",
       "1  Afera KNF. Filip Czuchwicki od dawna związany ...                     \n",
       "2  NBP chce usunięcia tekstów o aferze KNF. Sześć...                     \n",
       "3  \"Kamiński: Afera KNF to bomba, którą PiS sam s...   Śląskie, Polska   \n",
       "4   @PAPBiznes @StZerko i słusznie KNF to nie NBP...            Toruń    \n",
       "5  @olejnik_lukasz1 @wolne_media_pl @S_Potapowicz...  Warszawa, Polska   \n",
       "6  NBP chce usunięcia tekstów o aferze KNF. Wpłyn...                     \n",
       "7  NBP chce usunięcia tekstów o aferze KNF. Wpłyn...            Polska   \n",
       "8  @StKarczewski Ciąg dalszy zasłona dymna nad na...           Olsztyn   \n",
       "9  @rzeczpospolita @MorawieckiM @michal_kolanko o...                     \n",
       "\n",
       "            tw_user_id                    tw_user_name tw_fav_cnt  \n",
       "0   745685279785238528                         JoteReM      16016  \n",
       "1  1020754566562893824                Tygrys Bengalski       4065  \n",
       "2           1575865076           Katarzyna Kaczorowska      53230  \n",
       "3            477118221                      nieznajomy         78  \n",
       "4             74706282                           zbych      14698  \n",
       "5   877494219585331200                  Patryk Dejneka       6201  \n",
       "6   888044608504168452  Fajny Chłopak z Dużym Bicepsem      25287  \n",
       "7   970324946013564929                       WatahaNDN         68  \n",
       "8            111116776                Paweł Kołakowski        408  \n",
       "9            323177351             Janusz Piechociński       2144  "
      ]
     },
     "execution_count": 11,
     "metadata": {},
     "output_type": "execute_result"
    }
   ],
   "source": [
    "tw_df"
   ]
  },
  {
   "cell_type": "code",
   "execution_count": 12,
   "metadata": {},
   "outputs": [
    {
     "name": "stdout",
     "output_type": "stream",
     "text": [
      "745685279785238528 \n",
      "1020754566562893824 \n",
      "1575865076 \n",
      "477118221 Śląskie, Polska\n",
      "74706282 Toruń \n",
      "877494219585331200 Warszawa, Polska\n",
      "888044608504168452 \n",
      "970324946013564929 Polska\n",
      "111116776 Olsztyn\n",
      "323177351 \n"
     ]
    }
   ],
   "source": [
    "for u in tw_df['tw_user_id']:\n",
    "    print(u, api.get_user(id=u).location)"
   ]
  },
  {
   "cell_type": "code",
   "execution_count": 13,
   "metadata": {
    "collapsed": true
   },
   "outputs": [],
   "source": [
    "u_test =api.get_user(id=1575865076)\n",
    "t_test = a[]"
   ]
  },
  {
   "cell_type": "code",
   "execution_count": 15,
   "metadata": {},
   "outputs": [
    {
     "data": {
      "text/plain": [
       "['__class__',\n",
       " '__delattr__',\n",
       " '__dict__',\n",
       " '__dir__',\n",
       " '__doc__',\n",
       " '__eq__',\n",
       " '__format__',\n",
       " '__ge__',\n",
       " '__getattribute__',\n",
       " '__getstate__',\n",
       " '__gt__',\n",
       " '__hash__',\n",
       " '__init__',\n",
       " '__init_subclass__',\n",
       " '__le__',\n",
       " '__lt__',\n",
       " '__module__',\n",
       " '__ne__',\n",
       " '__new__',\n",
       " '__reduce__',\n",
       " '__reduce_ex__',\n",
       " '__repr__',\n",
       " '__setattr__',\n",
       " '__sizeof__',\n",
       " '__str__',\n",
       " '__subclasshook__',\n",
       " '__weakref__',\n",
       " '_api',\n",
       " '_json',\n",
       " 'contributors_enabled',\n",
       " 'created_at',\n",
       " 'default_profile',\n",
       " 'default_profile_image',\n",
       " 'description',\n",
       " 'entities',\n",
       " 'favourites_count',\n",
       " 'follow',\n",
       " 'follow_request_sent',\n",
       " 'followers',\n",
       " 'followers_count',\n",
       " 'followers_ids',\n",
       " 'following',\n",
       " 'friends',\n",
       " 'friends_count',\n",
       " 'geo_enabled',\n",
       " 'has_extended_profile',\n",
       " 'id',\n",
       " 'id_str',\n",
       " 'is_translation_enabled',\n",
       " 'is_translator',\n",
       " 'lang',\n",
       " 'listed_count',\n",
       " 'lists',\n",
       " 'lists_memberships',\n",
       " 'lists_subscriptions',\n",
       " 'location',\n",
       " 'name',\n",
       " 'notifications',\n",
       " 'parse',\n",
       " 'parse_list',\n",
       " 'profile_background_color',\n",
       " 'profile_background_image_url',\n",
       " 'profile_background_image_url_https',\n",
       " 'profile_background_tile',\n",
       " 'profile_banner_url',\n",
       " 'profile_image_url',\n",
       " 'profile_image_url_https',\n",
       " 'profile_link_color',\n",
       " 'profile_location',\n",
       " 'profile_sidebar_border_color',\n",
       " 'profile_sidebar_fill_color',\n",
       " 'profile_text_color',\n",
       " 'profile_use_background_image',\n",
       " 'protected',\n",
       " 'screen_name',\n",
       " 'status',\n",
       " 'statuses_count',\n",
       " 'time_zone',\n",
       " 'timeline',\n",
       " 'translator_type',\n",
       " 'unfollow',\n",
       " 'url',\n",
       " 'utc_offset',\n",
       " 'verified']"
      ]
     },
     "execution_count": 15,
     "metadata": {},
     "output_type": "execute_result"
    }
   ],
   "source": [
    "dir(u_test)"
   ]
  },
  {
   "cell_type": "code",
   "execution_count": null,
   "metadata": {
    "collapsed": true
   },
   "outputs": [],
   "source": []
  }
 ],
 "metadata": {
  "kernelspec": {
   "display_name": "Python 3",
   "language": "python",
   "name": "python3"
  },
  "language_info": {
   "codemirror_mode": {
    "name": "ipython",
    "version": 3
   },
   "file_extension": ".py",
   "mimetype": "text/x-python",
   "name": "python",
   "nbconvert_exporter": "python",
   "pygments_lexer": "ipython3",
   "version": "3.6.3"
  }
 },
 "nbformat": 4,
 "nbformat_minor": 2
}
